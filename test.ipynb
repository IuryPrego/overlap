{
 "cells": [
  {
   "cell_type": "code",
   "execution_count": 1,
   "metadata": {},
   "outputs": [
    {
     "ename": "ModuleNotFoundError",
     "evalue": "No module named 'matplotlib'",
     "output_type": "error",
     "traceback": [
      "\u001b[1;31m---------------------------------------------------------------------------\u001b[0m",
      "\u001b[1;31mModuleNotFoundError\u001b[0m                       Traceback (most recent call last)",
      "Cell \u001b[1;32mIn[1], line 2\u001b[0m\n\u001b[0;32m      1\u001b[0m \u001b[38;5;28;01mimport\u001b[39;00m \u001b[38;5;21;01mnumpy\u001b[39;00m \u001b[38;5;28;01mas\u001b[39;00m \u001b[38;5;21;01mnp\u001b[39;00m\n\u001b[1;32m----> 2\u001b[0m \u001b[38;5;28;01mimport\u001b[39;00m \u001b[38;5;21;01mmatplotlib\u001b[39;00m\u001b[38;5;21;01m.\u001b[39;00m\u001b[38;5;21;01mpyplot\u001b[39;00m \u001b[38;5;28;01mas\u001b[39;00m \u001b[38;5;21;01mplt\u001b[39;00m\n\u001b[0;32m      3\u001b[0m \u001b[38;5;28;01mfrom\u001b[39;00m \u001b[38;5;21;01mscipy\u001b[39;00m\u001b[38;5;21;01m.\u001b[39;00m\u001b[38;5;21;01mfft\u001b[39;00m \u001b[38;5;28;01mimport\u001b[39;00m fft2, fftshift, ifftshift\n\u001b[0;32m      5\u001b[0m \u001b[38;5;66;03m# Definindo os parâmetros\u001b[39;00m\n",
      "\u001b[1;31mModuleNotFoundError\u001b[0m: No module named 'matplotlib'"
     ]
    }
   ],
   "source": [
    "import numpy as np\n",
    "import matplotlib.pyplot as plt\n",
    "from scipy.fft import fft2, fftshift, ifftshift\n",
    "\n",
    "# Definindo os parâmetros\n",
    "N = 256  # tamanho da matriz\n",
    "q = 5  # constante q\n",
    "\n",
    "# Criando os perfis de campo E1 e E2\n",
    "x = np.linspace(-np.pi, np.pi, N)\n",
    "E1 = np.exp(-x**2)  # Gaussiana\n",
    "E2 = np.exp(-2*(x-1)**2)  # Outra gaussiana deslocada\n",
    "\n",
    "# Calculando a intensidade\n",
    "I = np.abs(E1 + np.exp(1j*q*x) * E2)**2\n",
    "\n",
    "# Transformada de Fourier\n",
    "I_ft = fftshift(fft2(I))\n",
    "\n",
    "# Visualizando o espectro de Fourier\n",
    "plt.figure(figsize=(8, 4))\n",
    "plt.subplot(1, 2, 1)\n",
    "plt.plot(x, I)\n",
    "plt.title('Perfil de Intensidade')\n",
    "plt.xlabel('x')\n",
    "\n",
    "plt.subplot(1, 2, 2)\n",
    "plt.imshow(np.log(np.abs(I_ft)), extent=[-np.pi, np.pi, -np.pi, np.pi])\n",
    "plt.title('Transformada de Fourier (Log Mag)')\n",
    "plt.colorbar()\n",
    "\n",
    "plt.show()\n"
   ]
  }
 ],
 "metadata": {
  "kernelspec": {
   "display_name": "Python 3",
   "language": "python",
   "name": "python3"
  },
  "language_info": {
   "codemirror_mode": {
    "name": "ipython",
    "version": 3
   },
   "file_extension": ".py",
   "mimetype": "text/x-python",
   "name": "python",
   "nbconvert_exporter": "python",
   "pygments_lexer": "ipython3",
   "version": "3.12.2"
  }
 },
 "nbformat": 4,
 "nbformat_minor": 2
}
