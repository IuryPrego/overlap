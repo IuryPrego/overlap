{
 "cells": [
  {
   "cell_type": "code",
   "execution_count": null,
   "metadata": {},
   "outputs": [],
   "source": [
    "import numpy as np\n",
    "import matplotlib.pyplot as plt"
   ]
  },
  {
   "cell_type": "code",
   "execution_count": null,
   "metadata": {},
   "outputs": [],
   "source": [
    "def ft(f, k, xs, dx, q=0):\n",
    "    result = 0\n",
    "    for x in xs:\n",
    "        result += f(x,q) * np.exp(-1j * k * x)\n",
    "\n",
    "    return result * dx\n",
    "\n",
    "def hermite_pol(x, g):\n",
    "    return (x)\n",
    "\n",
    "def g(x, a):\n",
    "    if np.abs(x) < a:\n",
    "        return 1/(2*a)\n",
    "    else:\n",
    "        return 0\n",
    "\n",
    "def f(x, q):\n",
    "    return np.exp(-x**2) * np.sin(q*x)\n",
    "\n",
    "def fri(f):\n",
    "    v1 = np.real(f)\n",
    "    v2 = np.imag(f)\n",
    "    a = np.zeros_like(v1)\n",
    "    b = np.zeros_like(v2)\n",
    "\n",
    "    for n in range(len(v1)):\n",
    "        if np.abs(v1[n]) > 10e-12:\n",
    "            a[n] = v1[n]\n",
    "\n",
    "    for n1 in range(len(v2)):\n",
    "        if np.abs(v2[n1]) > 10e-10:\n",
    "            b[n1] = v2[n1]\n",
    "\n",
    "    return np.array([a, b])\n",
    "\n",
    "\n",
    "def f2d(x, y, q):\n",
    "    return np.exp(-x**2) * np.exp(-y**2) * np.cos(q*x)**2"
   ]
  },
  {
   "cell_type": "code",
   "execution_count": null,
   "metadata": {},
   "outputs": [],
   "source": [
    "# plota a funcão f\n",
    "xs = np.linspace(-4, 4, 1000)\n",
    "dx = xs[1] - xs[0]\n",
    "plt.plot(xs, f(xs, 1))"
   ]
  },
  {
   "cell_type": "code",
   "execution_count": null,
   "metadata": {},
   "outputs": [],
   "source": [
    "# calcula transformada de fourier da função f\n",
    "x = np.linspace(-30, 30, 500)\n",
    "dx = x[1] - x[0]\n",
    "z = [ ft(f, k, x, dx, q=20) for k in x ]"
   ]
  },
  {
   "cell_type": "code",
   "execution_count": null,
   "metadata": {},
   "outputs": [],
   "source": [
    "# plota a transformada da função em 2 dimensões imag x real\n",
    "\n",
    "axis = np.array(fri(z))\n",
    "fig = plt.figure()\n",
    "ax = fig.add_subplot(projection='3d')\n",
    "ax.plot(x, axis[0] , axis[1])\n",
    "\n",
    "ax.set_xlabel('X')\n",
    "ax.set_ylabel('real')\n",
    "ax.set_zlabel('imag')"
   ]
  },
  {
   "cell_type": "code",
   "execution_count": null,
   "metadata": {},
   "outputs": [],
   "source": [
    "plt.plot(x, np.imag(z))"
   ]
  },
  {
   "cell_type": "code",
   "execution_count": null,
   "metadata": {},
   "outputs": [],
   "source": [
    "xs = np.linspace(-4, 4, 1000)\n",
    "ys = np.linspace(-4, 4, 1000)\n",
    "dx = xs[1] - xs[0]\n",
    "dy = ys[1] - ys[0]\n",
    "xg, yg = np.meshgrid(xs,ys)\n",
    "plt.contourf(xg,yg, f2d(xg, yg, 10))"
   ]
  },
  {
   "cell_type": "code",
   "execution_count": null,
   "metadata": {},
   "outputs": [],
   "source": [
    "ks = np.linspace(-100,100,100)\n",
    "\n",
    "trans = np.array( [ ft(f, k, xs, dx, q=10) for k in ks ])\n",
    "plt.plot(ks, np.abs(trans))"
   ]
  }
 ],
 "metadata": {
  "kernelspec": {
   "display_name": "Python 3",
   "language": "python",
   "name": "python3"
  },
  "language_info": {
   "codemirror_mode": {
    "name": "ipython",
    "version": 3
   },
   "file_extension": ".py",
   "mimetype": "text/x-python",
   "name": "python",
   "nbconvert_exporter": "python",
   "pygments_lexer": "ipython3",
   "version": "3.12.2"
  }
 },
 "nbformat": 4,
 "nbformat_minor": 2
}
