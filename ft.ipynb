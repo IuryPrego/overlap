{
 "cells": [
  {
   "cell_type": "code",
   "execution_count": 1,
   "metadata": {},
   "outputs": [],
   "source": [
    "import numpy as np\n",
    "import matplotlib.pyplot as plt\n",
    "from scipy import fft "
   ]
  },
  {
   "cell_type": "code",
   "execution_count": 3,
   "metadata": {},
   "outputs": [],
   "source": [
    "def ft(f, k, xs, dx, q=0):\n",
    "    result = 0\n",
    "    for x in xs:\n",
    "        result += f(x,q) * np.exp(-1j * k * x)\n",
    "\n",
    "    return result * dx\n",
    "\n",
    "def ft2d(f, kx, ky, xs, ys, dx, dy, q=0):\n",
    "    result = 0\n",
    "    for x in xs:\n",
    "        for y in ys:\n",
    "            result += f(x, y ,q) * np.exp(-1j * kx * x) *np.exp(-1j * ky * y)\n",
    "    return result * dx * dy\n",
    "\n",
    "def hermite_pol(x, g):\n",
    "    return (x)\n",
    "\n",
    "def g(x, a):\n",
    "    if np.abs(x) < a:\n",
    "        return 1/(2*a)\n",
    "    else:\n",
    "        return 0\n",
    "\n",
    "def f(x, q):\n",
    "    return np.exp(-x**2) * np.cos(q*x)\n",
    "\n",
    "def fri(f):\n",
    "    v1 = np.real(f)\n",
    "    v2 = np.imag(f)\n",
    "    a = np.zeros_like(v1)\n",
    "    b = np.zeros_like(v2)\n",
    "\n",
    "    for n in range(len(v1)):\n",
    "        if np.abs(v1[n]) > 10e-12:\n",
    "            a[n] = v1[n]\n",
    "\n",
    "    for n1 in range(len(v2)):\n",
    "        if np.abs(v2[n1]) > 10e-10:\n",
    "            b[n1] = v2[n1]\n",
    "\n",
    "    return np.array([a, b])\n",
    "\n",
    "\n",
    "def f2d(x, y, q):\n",
    "    return np.exp(-x**2) * np.exp(-y**2) * np.cos(q*x)**2 #np.exp(1j*q*x)"
   ]
  },
  {
   "cell_type": "code",
   "execution_count": null,
   "metadata": {},
   "outputs": [],
   "source": [
    "# plota a funcão f\n",
    "xs = np.linspace(-4, 4, 100)\n",
    "dx = xs[1] - xs[0]\n",
    "plt.plot(xs, f(xs, 2))"
   ]
  },
  {
   "cell_type": "code",
   "execution_count": null,
   "metadata": {},
   "outputs": [],
   "source": [
    "# calcula transformada de fourier da função f\n",
    "x = np.linspace(-10, 10, 1000)\n",
    "y = np.linspace(-10, 10, 1000)\n",
    "dx = x[1] - x[0]\n",
    "dy = y[1] - y[0]\n",
    "z = [ ft(f, k, x, dx, q=2) for k in x ]"
   ]
  },
  {
   "cell_type": "code",
   "execution_count": null,
   "metadata": {},
   "outputs": [],
   "source": [
    "value = 40\n",
    "ni = 10\n",
    "dk = 2*ni/value\n",
    "x = np.linspace(-ni, ni, value)\n",
    "y = np.linspace(-ni, ni, value)\n",
    "dx = x[1] - x[0]\n",
    "dy = y[1] - y[0]\n",
    "kni = 15\n",
    "kx = np.linspace(-kni, kni, value)\n",
    "ky = np.linspace(-kni, kni, value)\n",
    "z = np.zeros((len(kx), len(ky)), dtype='complex')\n",
    "for i in range(len(kx)):\n",
    "    for j in range(len(ky)):\n",
    "        z[j,i] = ft2d(f2d, kx[i], ky[j], x, y, dx, dy, q=1)\n"
   ]
  },
  {
   "cell_type": "code",
   "execution_count": null,
   "metadata": {},
   "outputs": [],
   "source": [
    "plt.pcolormesh(kx, ky, np.abs(z))\n",
    "plt.colorbar()"
   ]
  },
  {
   "cell_type": "code",
   "execution_count": 10,
   "metadata": {},
   "outputs": [
    {
     "data": {
      "text/plain": [
       "<matplotlib.colorbar.Colorbar at 0x1b38734ff80>"
      ]
     },
     "execution_count": 10,
     "metadata": {},
     "output_type": "execute_result"
    },
    {
     "data": {
      "image/png": "[encoded data removed]",
      "text/plain": [
       "<Figure size 640x480 with 2 Axes>"
      ]
     },
     "metadata": {},
     "output_type": "display_data"
    }
   ],
   "source": [
    "#E se o scipy existisse?\n",
    "value = 100\n",
    "ni = 10\n",
    "x = np.linspace(-ni, ni, value)\n",
    "y = np.linspace(-ni, ni, value)\n",
    "dk = 2*ni/value\n",
    "x2, y2 = np.meshgrid(x, y)\n",
    "z2 = f2d(x2, y2, q=10)\n",
    "ftz = fft.fftshift(fft.fft2(z2))\n",
    "kx , ky = np.meshgrid(2*np.pi*fft.fftshift(fft.fftfreq(value, dk)), 2*np.pi*fft.fftshift(fft.fftfreq(value, dk)))\n",
    "plt.pcolormesh(kx, ky, np.abs(ftz))\n",
    "plt.colorbar()"
   ]
  },
  {
   "cell_type": "code",
   "execution_count": null,
   "metadata": {},
   "outputs": [],
   "source": [
    "# plota a transformada da função em 2 dimensões imag x real\n",
    "\n",
    "axis = np.array(fri(z))\n",
    "fig = plt.figure()\n",
    "ax = fig.add_subplot(projection='3d')\n",
    "ax.plot(x, axis[0] , axis[1])\n",
    "\n",
    "ax.set_xlabel('X')\n",
    "ax.set_ylabel('real')\n",
    "ax.set_zlabel('imag')"
   ]
  },
  {
   "cell_type": "code",
   "execution_count": null,
   "metadata": {},
   "outputs": [],
   "source": [
    "plt.plot(x, np.real(z))"
   ]
  },
  {
   "cell_type": "code",
   "execution_count": null,
   "metadata": {},
   "outputs": [],
   "source": [
    "xs = np.linspace(-4, 4, 1000)\n",
    "ys = np.linspace(-4, 4, 1000)\n",
    "dx = xs[1] - xs[0]\n",
    "dy = ys[1] - ys[0]\n",
    "xg, yg = np.meshgrid(xs,ys)\n",
    "plt.contourf(xg,yg, f2d(xg, yg, 10))"
   ]
  },
  {
   "cell_type": "code",
   "execution_count": null,
   "metadata": {},
   "outputs": [],
   "source": [
    "value = 70\n",
    "ni = 10\n",
    "dk = 2*ni/value\n",
    "x = np.linspace(-ni, ni, value)\n",
    "y = np.linspace(-ni, ni, value)\n",
    "dx = x[1] - x[0]\n",
    "dy = y[1] - y[0]\n",
    "kni = 15\n",
    "kx = np.linspace(-kni, kni, value)\n",
    "ky = np.linspace(-kni, kni, value)"
   ]
  }
 ],
 "metadata": {
  "kernelspec": {
   "display_name": "Python 3",
   "language": "python",
   "name": "python3"
  },
  "language_info": {
   "codemirror_mode": {
    "name": "ipython",
    "version": 3
   },
   "file_extension": ".py",
   "mimetype": "text/x-python",
   "name": "python",
   "nbconvert_exporter": "python",
   "pygments_lexer": "ipython3",
   "version": "3.12.2"
  }
 },
 "nbformat": 4,
 "nbformat_minor": 2
}
